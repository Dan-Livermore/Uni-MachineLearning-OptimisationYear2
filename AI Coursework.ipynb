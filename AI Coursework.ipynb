{
  "nbformat": 4,
  "nbformat_minor": 0,
  "metadata": {
    "colab": {
      "provenance": []
    },
    "kernelspec": {
      "name": "python3",
      "display_name": "Python 3"
    },
    "language_info": {
      "name": "python"
    }
  },
  "cells": [
    {
      "cell_type": "code",
      "source": [
        "import numpy as np\n",
        "from sklearn.decomposition import PCA\n",
        "from sklearn.preprocessing import MinMaxScaler\n",
        "from sklearn.model_selection import train_test_split\n",
        "\n",
        "from sklearn.ensemble import RandomForestRegressor\n",
        "from sklearn.neural_network import MLPRegressor\n",
        "from sklearn.svm import SVR\n",
        "\n",
        "from sklearn.metrics import mean_squared_error\n",
        "from sklearn.model_selection import KFold\n",
        "import matplotlib.pyplot as plt\n",
        "\n",
        "import random\n",
        "import copy"
      ],
      "metadata": {
        "id": "AS8VlFbzggwi"
      },
      "execution_count": 1,
      "outputs": []
    },
    {
      "cell_type": "markdown",
      "source": [
        "# Part 1."
      ],
      "metadata": {
        "id": "Q6FT-8onfdhN"
      }
    },
    {
      "cell_type": "markdown",
      "source": [
        "## Task 1.1 - Data Preparation\n",
        " - Data normalisation\n",
        " - Separation of data"
      ],
      "metadata": {
        "id": "OPIu4zm4f0xY"
      }
    },
    {
      "cell_type": "code",
      "execution_count": 2,
      "metadata": {
        "id": "YkPkg-FOBZuZ"
      },
      "outputs": [],
      "source": [
        "containers = np.genfromtxt('containers.csv', delimiter=\",\", dtype=str)"
      ]
    },
    {
      "cell_type": "code",
      "source": [
        "targets = np.array(containers[:,7], dtype=int) #Extracting capacity\n",
        "training = np.concatenate((containers[:,1:7], containers[:,8:]), axis=1) #Removing ID for confusion and capacity"
      ],
      "metadata": {
        "id": "_R0VHHh2C-J5"
      },
      "execution_count": 3,
      "outputs": []
    },
    {
      "cell_type": "code",
      "source": [
        "\"\"\" Preparing the data \"\"\"\n",
        "scaler = MinMaxScaler()\n",
        "scaled = np.copy(training)\n",
        "scaled[:,1:] = scaler.fit_transform(scaled[:,1:])\n",
        "pca = PCA(n_components = 3)\n",
        "compressed = pca.fit_transform(scaled[:,1:])"
      ],
      "metadata": {
        "id": "3kdRbXFsDjTi"
      },
      "execution_count": 4,
      "outputs": []
    },
    {
      "cell_type": "code",
      "source": [
        "\"\"\" Separating the data into testing and training \"\"\"\n",
        "xtrain, xtest, ytrain, ytest = train_test_split(scaled, targets, random_state = 100)"
      ],
      "metadata": {
        "id": "gbYUdp6dD78_"
      },
      "execution_count": 5,
      "outputs": []
    },
    {
      "cell_type": "markdown",
      "source": [
        "## Task 1.2 - Regression\n",
        " - Top 10\n",
        " - Forest Regressor\n",
        " - MLP Regressor\n",
        " - SVM Regressor"
      ],
      "metadata": {
        "id": "67C07aU5EX7J"
      }
    },
    {
      "cell_type": "code",
      "source": [
        "\"\"\"Combines names and capacities and then sorts them in ascending order and prints the 10 greatest values\"\"\"\n",
        "def Top10(output):\n",
        "  values=[]\n",
        "  names = np.array(scaled[:,:1])\n",
        "  for i in range(100):\n",
        "    values.append([output[i],names[i]])\n",
        "  top10 = sorted(values, reverse=True)[:10]\n",
        "  print(\"Top 10 values\")\n",
        "  for i in range(10):\n",
        "    print(i,\" \",top10[i][1], \"= \", top10[i][0])"
      ],
      "metadata": {
        "id": "l21wHwQLI9Ms"
      },
      "execution_count": 25,
      "outputs": []
    },
    {
      "cell_type": "code",
      "source": [
        "\"\"\"Forest Regressor\"\"\"\n",
        "forest=RandomForestRegressor()\n",
        "forest.fit(xtrain[:,1:],ytrain)\n",
        "forestoutput=forest.predict(scaled[:,1:])\n",
        "Top10(forestoutput)"
      ],
      "metadata": {
        "id": "etczzuG9EXZx",
        "colab": {
          "base_uri": "https://localhost:8080/"
        },
        "outputId": "ca785207-3cf1-4da1-8659-9db03bf52ceb"
      },
      "execution_count": 26,
      "outputs": [
        {
          "output_type": "stream",
          "name": "stdout",
          "text": [
            "Top 10 values\n",
            "0   ['HMM STOCKHOLM'] =  22966.48\n",
            "1   ['HMM HELSINKI'] =  22966.48\n",
            "2   ['COSCO SHIPPING UNIVERSE'] =  21059.07\n",
            "3   ['OOCL HONG KONG'] =  20985.13\n",
            "4   ['CMA CGM ANTOINE DE SAINT EXUPERY'] =  20693.33\n",
            "5   ['MILAN MAERSK'] =  20574.93\n",
            "6   ['ONE TRIBUTE'] =  20418.22\n",
            "7   ['MOL TREASURE'] =  20346.82\n",
            "8   ['COSCO SHIPPING CAPRICORN'] =  19769.94\n",
            "9   ['AL DAHNA'] =  19602.97\n"
          ]
        }
      ]
    },
    {
      "cell_type": "code",
      "source": [
        "\"\"\"Neural Network\"\"\"\n",
        "mlp=MLPRegressor(max_iter=10000,solver=\"lbfgs\")\n",
        "mlp.fit(xtrain[:,1:],ytrain)\n",
        "mlpoutput=mlp.predict(scaled[:,1:].astype(float))\n",
        "Top10(mlpoutput)"
      ],
      "metadata": {
        "colab": {
          "base_uri": "https://localhost:8080/"
        },
        "id": "p3eMGk4TJEUQ",
        "outputId": "d94e2963-7a9f-4f3d-b5b7-8bf256e95270"
      },
      "execution_count": 27,
      "outputs": [
        {
          "output_type": "stream",
          "name": "stdout",
          "text": [
            "Top 10 values\n",
            "0   ['HMM STOCKHOLM'] =  23434.465728788145\n",
            "1   ['HMM HELSINKI'] =  23276.072708273892\n",
            "2   ['CMA CGM ANTOINE DE SAINT EXUPERY'] =  21413.626245948955\n",
            "3   ['COSCO SHIPPING UNIVERSE'] =  21297.338378861732\n",
            "4   ['MILAN MAERSK'] =  20871.226104294194\n",
            "5   ['ONE TRIBUTE'] =  20747.9183371476\n",
            "6   ['MOL TREASURE'] =  20500.304773519718\n",
            "7   ['OOCL HONG KONG'] =  20442.19459894126\n",
            "8   ['COSCO SHIPPING CAPRICORN'] =  19697.889495690648\n",
            "9   ['MSC RIFAYA'] =  19452.391721158936\n"
          ]
        }
      ]
    },
    {
      "cell_type": "code",
      "source": [
        "\"\"\"Support Vector Machine\"\"\"\n",
        "svm=SVR()\n",
        "svm.fit(xtrain[:,1:],ytrain)\n",
        "svmoutput=svm.predict(scaled[:,1:])\n",
        "Top10(svmoutput)"
      ],
      "metadata": {
        "colab": {
          "base_uri": "https://localhost:8080/"
        },
        "id": "Y9nOFt3CJY9z",
        "outputId": "6d5b6b50-8c9d-49d7-b76d-53240043b913"
      },
      "execution_count": 28,
      "outputs": [
        {
          "output_type": "stream",
          "name": "stdout",
          "text": [
            "Top 10 values\n",
            "0   ['MSC OSCAR'] =  8563.941874298103\n",
            "1   ['OOCL HONG KONG'] =  8563.876108505765\n",
            "2   ['MOL TREASURE'] =  8563.804518574369\n",
            "3   ['ONE TRIBUTE'] =  8563.769495283299\n",
            "4   ['AL DAHNA'] =  8563.679748897082\n",
            "5   ['COSCO SHIPPING CAPRICORN'] =  8563.672634434728\n",
            "6   ['MSC RIFAYA'] =  8563.65458235482\n",
            "7   ['CSCL GLOBE'] =  8563.610478384517\n",
            "8   ['MSC HAMBURG'] =  8563.573745763457\n",
            "9   ['MAERSK MC-KINNEY MOLLER'] =  8563.095080070514\n"
          ]
        }
      ]
    },
    {
      "cell_type": "markdown",
      "source": [
        "## Task 1.3 - Assessment of Regression\n",
        " - Running Regressors\n",
        " - Boxplots for results"
      ],
      "metadata": {
        "id": "M5qxr3B-KXGO"
      }
    },
    {
      "cell_type": "code",
      "source": [
        "\"\"\"Forest\"\"\"\n",
        "ftrain = mean_squared_error(forest.predict(xtrain[:,1:]),ytrain)\n",
        "ftest = mean_squared_error(forest.predict(xtest[:,1:]),ytest)\n",
        "print(\"Random Forest: \\nExpected (training): \", ftrain,\"   Actual (Test):\", ftest, \"\\n\")\n",
        "\n",
        "\"\"\"MLP\"\"\"\n",
        "mtrain = mean_squared_error(mlp.predict(xtrain[:,1:].astype(float)),ytrain)\n",
        "mtest = mean_squared_error(mlp.predict(xtest[:,1:].astype(float)),ytest)\n",
        "print(\"Neural Network: \\nExpected (training): \", mtrain, \"   Actual (Test):\", mtest, \"\\n\")\n",
        "\n",
        "\"\"\"SVM\"\"\"\n",
        "strain = mean_squared_error(svm.predict(xtrain[:,1:]),ytrain)\n",
        "stest = mean_squared_error(svm.predict(xtest[:,1:]),ytest)\n",
        "print(\"Support Vector Machine: \\nExpected (training): \", strain, \"   Actual (Test):\", ftest, \"\\n\")"
      ],
      "metadata": {
        "colab": {
          "base_uri": "https://localhost:8080/"
        },
        "id": "ldBrGFtDKaIl",
        "outputId": "0ec8f127-0537-447a-9f0a-2d901f4fc9a4"
      },
      "execution_count": 10,
      "outputs": [
        {
          "output_type": "stream",
          "name": "stdout",
          "text": [
            "Random Forest: \n",
            "Expected (training):  78603.45919866672    Actual (Test): 146825.82996000006 \n",
            "\n",
            "Neural Network: \n",
            "Expected (training):  93356.19152805186    Actual (Test): 114661.47691472345 \n",
            "\n",
            "Support Vector Machine: \n",
            "Expected (training):  41185416.16051672    Actual (Test): 146825.82996000006 \n",
            "\n"
          ]
        }
      ]
    },
    {
      "cell_type": "code",
      "source": [
        "bp = []\n",
        "bp1 = []\n",
        "kf = KFold(n_splits=4)\n",
        "\n",
        "\"\"\"Creates boxplots for each regressor\"\"\"\n",
        "\n",
        "#Random Forest\n",
        "for train, test in kf.split(training):\n",
        " x_test = training[test,1:]\n",
        " x_train = training[train,1:]\n",
        " y_test = targets[test]\n",
        " y_train = targets[train]\n",
        " forest.fit(x_train, y_train)\n",
        " pred_x = forest.predict(x_train)\n",
        " mse = mean_squared_error(pred_x, y_train)\n",
        " bp.append(mse)\n",
        " pred_y = forest.predict(x_test)\n",
        " mse1 = mean_squared_error(pred_y, y_test)\n",
        " bp1.append(mse1)\n",
        "\n",
        "#Generate graph\n",
        "plt.figure()\n",
        "plt.boxplot([bp, bp1], labels=['Train','Test'])\n",
        "plt.xlabel('Forest')\n",
        "plt.ylabel('Capacity')\n",
        "plt.title('Random Forest')\n",
        "plt.savefig('Random Forest')\n",
        "plt.show()\n"
      ],
      "metadata": {
        "colab": {
          "base_uri": "https://localhost:8080/",
          "height": 472
        },
        "id": "JAeWQWD-Ono7",
        "outputId": "aaf92c7b-e5a3-48c8-e5f0-5eb14db2fd71"
      },
      "execution_count": 11,
      "outputs": [
        {
          "output_type": "display_data",
          "data": {
            "text/plain": [
              "<Figure size 640x480 with 1 Axes>"
            ],
            "image/png": "[encoded data removed]"
          },
          "metadata": {}
        }
      ]
    },
    {
      "cell_type": "code",
      "source": [
        "#Neural Network\n",
        "for train, test in kf.split(training):\n",
        " x_test = training[test,1:]\n",
        " x_train = training[train,1:]\n",
        " y_test = targets[test]\n",
        " y_train = targets[train]\n",
        " mlp.fit(x_train.astype(float), y_train.astype(float))\n",
        " pred_x = mlp.predict(x_train.astype(float))\n",
        " mse = mean_squared_error(pred_x, y_train)\n",
        " bp.append(mse)\n",
        " pred_y = mlp.predict(x_test.astype(float))\n",
        " mse1 = mean_squared_error(pred_y, y_test)\n",
        " bp1.append(mse1)\n",
        "\n",
        "#Generate graph\n",
        "plt.figure()\n",
        "plt.boxplot([bp, bp1], labels=['Train','Test'])\n",
        "plt.xlabel('Neural Network')\n",
        "plt.ylabel('Capacity')\n",
        "plt.title('Neural Network')\n",
        "plt.show()"
      ],
      "metadata": {
        "id": "LaIQ4Qf6iE-U",
        "outputId": "c4e226c0-4a24-4634-80f0-a22aa24cea0b",
        "colab": {
          "base_uri": "https://localhost:8080/",
          "height": 472
        }
      },
      "execution_count": 12,
      "outputs": [
        {
          "output_type": "display_data",
          "data": {
            "text/plain": [
              "<Figure size 640x480 with 1 Axes>"
            ],
            "image/png": "[encoded data removed]"
          },
          "metadata": {}
        }
      ]
    },
    {
      "cell_type": "code",
      "source": [
        "kf = KFold(n_splits=4)\n",
        "bp = []\n",
        "bp1 = []\n",
        "\n",
        "#Support Vector Machine\n",
        "for train, test in kf.split(training):\n",
        " x_test = training[test,1:]\n",
        " x_train = training[train,1:]\n",
        " y_test = targets[test]\n",
        " y_train = targets[train]\n",
        " svm.fit(x_train.astype(float), y_train)\n",
        " pred_x = svm.predict(x_train)\n",
        " mse = mean_squared_error(pred_x, y_train)\n",
        " bp.append(mse)\n",
        " pred_y = svm.predict(x_test)\n",
        " mse1 = mean_squared_error(pred_y, y_test)\n",
        " bp1.append(mse1)\n",
        "\n",
        "#Generate graph\n",
        "plt.figure()\n",
        "plt.boxplot([bp, bp1], labels=['Train','Test'])\n",
        "plt.xlabel('SVM')\n",
        "plt.ylabel('Capacity')\n",
        "plt.title('Support Vector Machine')\n",
        "plt.show()"
      ],
      "metadata": {
        "id": "R1E4H9ChiJsu",
        "outputId": "2f27c9ec-870d-4cd0-8324-d692be1bac46",
        "colab": {
          "base_uri": "https://localhost:8080/",
          "height": 472
        }
      },
      "execution_count": 13,
      "outputs": [
        {
          "output_type": "display_data",
          "data": {
            "text/plain": [
              "<Figure size 640x480 with 1 Axes>"
            ],
            "image/png": "[encoded data removed]"
          },
          "metadata": {}
        }
      ]
    },
    {
      "cell_type": "markdown",
      "source": [
        "# Part 2"
      ],
      "metadata": {
        "id": "s20pIv1QIeyA"
      }
    },
    {
      "cell_type": "markdown",
      "source": [
        "## Part 2.1 - Generation of random solutions\n",
        " - Creates a random solution\n",
        " - Fitness Function"
      ],
      "metadata": {
        "id": "Q1Q39LdHIgzC"
      }
    },
    {
      "cell_type": "code",
      "source": [
        "distances = np.genfromtxt('distances.csv', delimiter=\",\", dtype=str)\n",
        "stops = np.genfromtxt('stops.csv', delimiter=\",\", dtype=str)"
      ],
      "metadata": {
        "id": "nnT3x7eZHCtT"
      },
      "execution_count": 14,
      "outputs": []
    },
    {
      "cell_type": "code",
      "source": [
        "locations = np.array([0,1,2,3,4,5,6,7,8,9,10,11])\n",
        "\n",
        "\"\"\"Prepares the stops for the optimisation \"\"\"\n",
        "def Randomise(data):\n",
        "  random.shuffle(data)\n",
        "  data = np.split(data, 3)\n",
        "  return np.array(data)"
      ],
      "metadata": {
        "id": "RTqrakrbYx5p"
      },
      "execution_count": 15,
      "outputs": []
    },
    {
      "cell_type": "code",
      "source": [
        "\"\"\"Iterates through the solution and creates a fitness value of the result \"\"\"\n",
        "\n",
        "def FitnessFunction(arr):\n",
        "  results = []\n",
        "  for i in range(len(arr)):\n",
        "    for j in range(len(arr[i])):\n",
        "      if j+1 >= len(arr[i]):\n",
        "        length = float(distances[arr[i][j]][arr[i][0]])\n",
        "      else:\n",
        "        length = float(distances[arr[i][j]][arr[i][j+1]])\n",
        "      results.append(length)\n",
        "  fitness = sum(results)\n",
        "  return fitness\n",
        "\n",
        "FitnessFunction(Randomise(locations))"
      ],
      "metadata": {
        "id": "QayClJwjMG4G",
        "colab": {
          "base_uri": "https://localhost:8080/"
        },
        "outputId": "ab526202-c3ec-4161-9267-2cbf2bbd6870"
      },
      "execution_count": 16,
      "outputs": [
        {
          "output_type": "execute_result",
          "data": {
            "text/plain": [
              "68.3402480885748"
            ]
          },
          "metadata": {},
          "execution_count": 16
        }
      ]
    },
    {
      "cell_type": "markdown",
      "source": [
        "## Part 2.2 - Algorithm Implementation\n",
        " - Swap Mutator\n",
        " - Shuffle Mutator\n",
        " - Ruin and Recreate Mutator\n",
        " - Hillclimber to test solutions"
      ],
      "metadata": {
        "id": "bR6akwVFIr7K"
      }
    },
    {
      "cell_type": "code",
      "source": [
        "\"\"\" \n",
        "    Swap Mutator\n",
        "    Takes two random values in the route and swaps them\n",
        "\"\"\"\n",
        "def Swap(solution):\n",
        "  arr = solution.flatten()\n",
        "  x = random.randint(0,11)\n",
        "  y = random.randint(0,11)\n",
        "  valid = True\n",
        "  while valid:\n",
        "    if x == y:\n",
        "      x = random.randint(0,11)\n",
        "    else:\n",
        "      valid = False\n",
        "  arr[x], arr[y] = arr[y], arr[x]\n",
        "  arr = arr.reshape(3, 4)\n",
        "  return arr"
      ],
      "metadata": {
        "id": "5cHFJqRgHkVU"
      },
      "execution_count": 17,
      "outputs": []
    },
    {
      "cell_type": "code",
      "source": [
        "\"\"\" \n",
        "    Shuffle Mutator\n",
        "    Takes 4 consecutive stops and randomises them\n",
        "\"\"\"\n",
        "\n",
        "def Shuffle(solution):\n",
        "  arr = solution.flatten()\n",
        "  x = random.randint(0,11)\n",
        "  y = x\n",
        "  values = []\n",
        "  for i in range(4):\n",
        "    if x+i > 11:\n",
        "      x = -i\n",
        "    values.append(arr[x+i])\n",
        "  j = 0\n",
        "  random.shuffle(values)\n",
        "  for i in range(4):\n",
        "    if y+i > 11:\n",
        "      y = -i\n",
        "    arr[y+i] = values[j]\n",
        "    j += 1\n",
        "  arr = arr.reshape(3, 4)\n",
        "  return arr\n",
        "\n",
        "Shuffle(Randomise(locations))"
      ],
      "metadata": {
        "id": "mGyq4FooMcSA",
        "colab": {
          "base_uri": "https://localhost:8080/"
        },
        "outputId": "6caa62e8-c311-4c98-9a50-42a545adfca7"
      },
      "execution_count": 18,
      "outputs": [
        {
          "output_type": "execute_result",
          "data": {
            "text/plain": [
              "array([[ 2,  0, 10, 11],\n",
              "       [ 9,  3,  5,  1],\n",
              "       [ 7,  4,  6,  8]])"
            ]
          },
          "metadata": {},
          "execution_count": 18
        }
      ]
    },
    {
      "cell_type": "code",
      "source": [
        "\"\"\" \n",
        "    Ruin and Recreate Mutator\n",
        "    Destroys original solution and recreates it\n",
        "\"\"\"\n",
        "def Ruin(arr):\n",
        "  return Randomise(locations)\n",
        "\n",
        "Ruin(Randomise(locations))"
      ],
      "metadata": {
        "id": "4JMa46zGMdsB",
        "colab": {
          "base_uri": "https://localhost:8080/"
        },
        "outputId": "e4cf3e4e-d252-49ae-dfd8-f8a87d7d7f6d"
      },
      "execution_count": 19,
      "outputs": [
        {
          "output_type": "execute_result",
          "data": {
            "text/plain": [
              "array([[ 5,  9,  7,  1],\n",
              "       [ 6,  2, 10,  8],\n",
              "       [ 3,  0, 11,  4]])"
            ]
          },
          "metadata": {},
          "execution_count": 19
        }
      ]
    },
    {
      "cell_type": "code",
      "source": [
        "\"\"\"Runs the solution again and if the child solution is better store the new value\"\"\"\n",
        "\n",
        "def Hillclimber(solution,repeats,iterations,mutator):\n",
        "  output = [[] for _ in range(repeats)]\n",
        "  for i in range(repeats):\n",
        "    x = copy.deepcopy(solution)\n",
        "    y = FitnessFunction(x)\n",
        "\n",
        "    for j in range(iterations):\n",
        "      xp = mutator(x)\n",
        "      yp = FitnessFunction(xp)\n",
        "\n",
        "      if yp <= y:\n",
        "        x = xp\n",
        "        y = yp\n",
        "      output[i].append(y)\n",
        "  return output"
      ],
      "metadata": {
        "id": "DE6XLBzhs01I"
      },
      "execution_count": 20,
      "outputs": []
    },
    {
      "cell_type": "code",
      "source": [
        "mutators = [Swap, Shuffle, Ruin]\n",
        "\n",
        "def Iterate(mutators):\n",
        "  total = []\n",
        "  results = []\n",
        "  best = 0\n",
        "  for i in range(len(mutators)):\n",
        "    total.append(FitnessFunction(mutators[i](Randomise(locations))))\n",
        "\n",
        "  # Works out which mutator is best for this iteration\n",
        "  if total[0] < total[1]:\n",
        "    if total[0] < total[2]:\n",
        "      best = total[0]\n",
        "      name = \"Swap\"\n",
        "    else:\n",
        "      best = total[2]\n",
        "      name = \"Ruin\"\n",
        "  else:\n",
        "    best = total[1]\n",
        "    name = \"Shuffle\"\n",
        "  print(\"The best overall is {} with the {} mutator.\\n\" .format(best, name))\n",
        "  \n",
        "for i in range(5):\n",
        "  Iterate(mutators)"
      ],
      "metadata": {
        "colab": {
          "base_uri": "https://localhost:8080/"
        },
        "id": "fxVAbsXjqodV",
        "outputId": "061a5100-4d9b-4664-e7a5-3d88932f47c6"
      },
      "execution_count": 21,
      "outputs": [
        {
          "output_type": "stream",
          "name": "stdout",
          "text": [
            "The best overall is 71.03512613152138 with the Shuffle mutator.\n",
            "\n",
            "The best overall is 69.23334674753154 with the Swap mutator.\n",
            "\n",
            "The best overall is 78.31813920444674 with the Shuffle mutator.\n",
            "\n",
            "The best overall is 93.93813537157334 with the Ruin mutator.\n",
            "\n",
            "The best overall is 93.75457569885279 with the Swap mutator.\n",
            "\n"
          ]
        }
      ]
    },
    {
      "cell_type": "markdown",
      "source": [
        "## Part 2.3 - Visualisation of results\n",
        " - Runs hill climbers\n",
        " - Calculates minimum, maximum and average values\n",
        " - Represents results\n"
      ],
      "metadata": {
        "id": "bgTurP6XIwb_"
      }
    },
    {
      "cell_type": "code",
      "source": [
        "\"\"\"Runs Hill climbers\"\"\"\n",
        "swap = Swap(Randomise(locations))\n",
        "swapoutput= Hillclimber(swap,30,500,mutators[0])\n",
        "\n",
        "shuffle = Shuffle(Randomise(locations))\n",
        "shuffleoutput = Hillclimber(shuffle,30,500,mutators[1])\n",
        "\n",
        "ruin = Ruin(Randomise(locations))\n",
        "ruinoutput = Hillclimber(ruin,30,500,mutators[2])"
      ],
      "metadata": {
        "id": "8QDViJVSP-Kd"
      },
      "execution_count": 22,
      "outputs": []
    },
    {
      "cell_type": "code",
      "source": [
        "swap_min = []\n",
        "swap_avg = []\n",
        "swap_max = []\n",
        "shuffle_min = []\n",
        "shuffle_avg = []\n",
        "shuffle_max = []\n",
        "ruin_min = []\n",
        "ruin_avg = []\n",
        "ruin_max = []\n",
        "\n",
        "\"\"\" Calculates minimum, maximum and average values for each iteration\"\"\"\n",
        "\n",
        "def Averages(output, mutator):\n",
        "  minimum = []\n",
        "  average = []\n",
        "  maximum = []\n",
        "  for i in range(500):\n",
        "    values = []\n",
        "    for lst in output:\n",
        "      values.append(lst[i])\n",
        "    minimum.append(min(values))\n",
        "    average.append(np.mean(values))\n",
        "    maximum.append(max(values))\n",
        "  return minimum, average, maximum\n",
        "\n",
        "swap_min, swap_avg, swap_max = Averages(swapoutput, mutators[0])\n",
        "shuffle_min, shuffle_avg, shuffle_max = Averages(shuffleoutput, mutators[1])\n",
        "ruin_min, ruin_avg, ruin_max = Averages(ruinoutput, mutators[2])"
      ],
      "metadata": {
        "id": "wH4bhNIBItno"
      },
      "execution_count": 23,
      "outputs": []
    },
    {
      "cell_type": "code",
      "source": [
        "plt.plot(swap_min, linestyle = ':',color = 'r',label=\"Min Swap\")\n",
        "plt.plot(shuffle_min, linestyle = ':',color = 'g',label=\"Min Shuffle\")\n",
        "plt.plot(ruin_min, linestyle = ':',color = 'b',label=\"Min Ruin\")\n",
        "\n",
        "plt.plot(swap_avg, linestyle = '--',color = 'r',label=\"Average Swap\")\n",
        "plt.plot(shuffle_avg, linestyle = '--',color = 'g',label=\"Average Shuffle\")\n",
        "plt.plot(ruin_avg, linestyle = '--',color = 'b',label=\"Average Ruin\")\n",
        "\n",
        "plt.plot(swap_max, linestyle = '-',color = 'r',label=\"Max Swap\")\n",
        "plt.plot(shuffle_max, linestyle = '-',color = 'g',label=\"Max Shuffle\")\n",
        "plt.plot(ruin_max, linestyle = '-',color = 'b',label=\"Max Ruin\")\n",
        "\n",
        "\n",
        "plt.xlabel('Times Ran')\n",
        "plt.ylabel('Capacity \\n(Lower is better)')\n",
        "plt.title('Results of Hill Climber')\n",
        "plt.legend(loc='upper right')\n",
        "plt.show()"
      ],
      "metadata": {
        "colab": {
          "base_uri": "https://localhost:8080/",
          "height": 472
        },
        "id": "I_ivEFFsRKPw",
        "outputId": "dfd29e2d-521f-41b2-de0d-9c5cdf8ca477"
      },
      "execution_count": 24,
      "outputs": [
        {
          "output_type": "display_data",
          "data": {
            "text/plain": [
              "<Figure size 640x480 with 1 Axes>"
            ],
            "image/png": "[encoded data removed]"
          },
          "metadata": {}
        }
      ]
    },
    {
      "cell_type": "markdown",
      "source": [
        "## Swap\n",
        "This solution is the best as the it quickly reaches the local minimum given that the result of the hillclimber is optimised faster than the other 2 algorithms.\n",
        "While Ruin and Recreate reaches a more optimised result more consistently, the Swap mutator is a more efficient algorithm as it rapidly gets more optimised halfway through running the algorithm and then plateaus as it has reached the most optimal values. As the increased permutations has no effect on the result, it clearly is the most optimised solution.\n",
        "\n"
      ],
      "metadata": {
        "id": "EY7oEDRGa2rU"
      }
    }
  ]
}